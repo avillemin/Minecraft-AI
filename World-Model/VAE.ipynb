{
 "cells": [
  {
   "cell_type": "code",
   "execution_count": 22,
   "metadata": {},
   "outputs": [],
   "source": [
    "import numpy as np\n",
    "import torch.nn as nn\n",
    "import torch.nn.functional as F\n",
    "from torch.autograd import Variable\n",
    "import torch.optim as optim\n",
    "import torch"
   ]
  },
  {
   "cell_type": "code",
   "execution_count": 23,
   "metadata": {},
   "outputs": [],
   "source": [
    "class Encoder(nn.Module):\n",
    "    def __init__(self,img_channels, latent_size):\n",
    "        super(Encoder,self).__init__()\n",
    "        self.img_channels = img_channels\n",
    "        self.latent_size = latent_size\n",
    "        self.conv1 = nn.Conv2d(in_channels = img_channels, out_channels = 32, kernel_size = 4, stride = 2)\n",
    "        self.conv2 = nn.Conv2d(in_channels = 32, out_channels = 64, kernel_size = 4, stride = 2)\n",
    "        self.conv3 = nn.Conv2d(in_channels = 64, out_channels = 128, kernel_size = 4, stride = 2)\n",
    "        self.conv4 = nn.Conv2d(in_channels = 128, out_channels = 256, kernel_size = 4, stride = 2)\n",
    "        \n",
    "        self.mu = nn.Linear(in_features = 2*2*256, out_features = latent_size)\n",
    "        self.logsigma = nn.Linear(in_features = 2*2*256, out_features = latent_size)\n",
    "    \n",
    "    def forward(self, x):\n",
    "        x = F.relu(self.conv1(x))\n",
    "        x = F.relu(self.conv2(x))\n",
    "        x = F.relu(self.conv3(x))\n",
    "        x = F.relu(self.conv4(x))\n",
    "        x = x.view(x.size(0), -1)\n",
    "        \n",
    "        mu = self.mu(x)\n",
    "        logsigma = self.logsigma(x)\n",
    "        sigma = logsigma.exp()\n",
    "        epsilon = torch.randn_like(sigma)\n",
    "        \n",
    "        z = epsilon.mul(sigma).add_(mu)        \n",
    "        return mu, logsigma"
   ]
  },
  {
   "cell_type": "code",
   "execution_count": 24,
   "metadata": {},
   "outputs": [],
   "source": [
    "class Decoder(nn.Module):\n",
    "    def __init__(self,img_channels, latent_size):\n",
    "        super(Decoder,self).__init__()\n",
    "        self.img_channels = img_channels\n",
    "        self.latent_size = latent_size\n",
    "        self.linear1 = nn.Linear(latent_size,1024)\n",
    "        self.deconv1 = nn.ConvTranspose2d(in_channels = 1024, out_channels = 128, kernel_size = 5, stride = 2)\n",
    "        self.deconv2 = nn.ConvTranspose2d(in_channels = 128, out_channels = 64, kernel_size = 5, stride = 2)\n",
    "        self.deconv3 = nn.ConvTranspose2d(in_channels = 64, out_channels = 32, kernel_size = 6, stride = 2)\n",
    "        self.deconv4 = nn.ConvTranspose2d(in_channels = 32, out_channels = img_channels, kernel_size = 6, stride = 2)\n",
    "        \n",
    "    def forward(self,z):\n",
    "        z = F.relu(self.linear1(z))\n",
    "        z = z.unsqueeze(-1).unsqueeze(-1)\n",
    "        z = F.relu(self.deconv1(z))\n",
    "        z = F.relu(self.deconv2(z))\n",
    "        z = F.relu(self.deconv3(z))\n",
    "        z = F.sigmoid(self.deconv4(z))\n",
    "        return z"
   ]
  },
  {
   "cell_type": "code",
   "execution_count": 25,
   "metadata": {},
   "outputs": [],
   "source": [
    "class VAE(nn.Module):\n",
    "    def __init__(self,img_channels, latent_size):\n",
    "        super(VAE,self).__init__()\n",
    "        self.latent_size = latent_size\n",
    "        self.encoder = Encoder(img_channels, latent_size)\n",
    "        self.decoder = Decoder(img_channels, latent_size)\n",
    "        \n",
    "    def forward(x):\n",
    "        mu,logsigma = self.encoder(x)\n",
    "        \n",
    "        sigma = logsigma.exp()\n",
    "        epsilon = torch.randn_like(sigma)\n",
    "        z = epsilon.mul(sigma).add_(mu)   \n",
    "        \n",
    "        recon_x = self.decoder(z)\n",
    "        return recon_x, mu, logsigma"
   ]
  },
  {
   "cell_type": "markdown",
   "metadata": {},
   "source": [
    "$KL_{loss}=-\\frac{1}{2}(2\\log(\\sigma_1)-\\sigma_1^2-\\mu_1^2+1)$  if σ is the standard deviation.   \n",
    "Warning, if σ if the variance, $=-\\frac{1}{2}(\\log(\\sigma_1)-\\sigma_1-\\mu^2_1+1)$"
   ]
  },
  {
   "cell_type": "code",
   "execution_count": 26,
   "metadata": {},
   "outputs": [],
   "source": [
    "class ConvVAE():\n",
    "    def __init__(self,img_channels, latent_size, learning_rate):\n",
    "        self.vae = VAE(img_channels, latent_size)\n",
    "        self.learning_rate = learning_rate\n",
    "        self.optimizer = optim.Adam(self.vae.parameters(), lr = learning_rate)\n",
    "        self.losses = []\n",
    "        \n",
    "    def train(self, batch_img):\n",
    "        recon_x, mu, logsigma = vae(batch_img)\n",
    "        \n",
    "        BCE = F.mse_loss(recon_x, batch_img, size_average=False)\n",
    "        #If the training is bad, add a threshold to KLD\n",
    "        KLD = -0.5 * torch.sum(1 + 2 * logsigma - mu.pow(2) - (2 * logsigma).exp())\n",
    "        loss = BCE + KLD\n",
    "        losses.append(loss)\n",
    "        \n",
    "        self.optimizer.zero_grad()\n",
    "        loss.backward()\n",
    "        self.optimizer.step()"
   ]
  }
 ],
 "metadata": {
  "kernelspec": {
   "display_name": "Python 3",
   "language": "python",
   "name": "python3"
  },
  "language_info": {
   "codemirror_mode": {
    "name": "ipython",
    "version": 3
   },
   "file_extension": ".py",
   "mimetype": "text/x-python",
   "name": "python",
   "nbconvert_exporter": "python",
   "pygments_lexer": "ipython3",
   "version": "3.6.6"
  }
 },
 "nbformat": 4,
 "nbformat_minor": 2
}
